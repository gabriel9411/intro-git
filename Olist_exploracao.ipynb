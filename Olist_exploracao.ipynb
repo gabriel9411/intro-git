{
  "nbformat": 4,
  "nbformat_minor": 0,
  "metadata": {
    "colab": {
      "name": "Olist_exploracao.ipynb",
      "provenance": [],
      "collapsed_sections": [],
      "toc_visible": true,
      "include_colab_link": true
    },
    "kernelspec": {
      "name": "python3",
      "display_name": "Python 3"
    }
  },
  "cells": [
    {
      "cell_type": "markdown",
      "metadata": {
        "id": "view-in-github",
        "colab_type": "text"
      },
      "source": [
        "<a href=\"https://colab.research.google.com/github/gabriel9411/intro-git/blob/master/Olist_exploracao.ipynb\" target=\"_parent\"><img src=\"https://colab.research.google.com/assets/colab-badge.svg\" alt=\"Open In Colab\"/></a>"
      ]
    },
    {
      "cell_type": "code",
      "metadata": {
        "id": "wH9ZqIHxFtEP",
        "colab": {
          "base_uri": "https://localhost:8080/"
        },
        "outputId": "6b91024d-a515-456a-d82e-5049844c0f6b"
      },
      "source": [
        "!pip install -U gitly"
      ],
      "execution_count": null,
      "outputs": [
        {
          "output_type": "stream",
          "text": [
            "Collecting gitly\n",
            "  Downloading https://files.pythonhosted.org/packages/45/fe/0afeaec8b05a3056e3081c890ea7daae3674ef2849df792561c9bd5dd799/gitly-1.1.4.tar.gz\n",
            "Collecting plotly>=4.9.0\n",
            "\u001b[?25l  Downloading https://files.pythonhosted.org/packages/a6/66/af86e9d9bf1a3e4f2dabebeabd02a32e8ddf671a5d072b3af2b011efea99/plotly-4.12.0-py2.py3-none-any.whl (13.1MB)\n",
            "\u001b[K     |████████████████████████████████| 13.1MB 312kB/s \n",
            "\u001b[?25hCollecting kaleido\n",
            "\u001b[?25l  Downloading https://files.pythonhosted.org/packages/7c/26/cc562909fe6838ee3a98c0b2f83e79cbe2dbea8cddb7f3445fd347253d8e/kaleido-0.0.3.post1-py2.py3-none-manylinux1_x86_64.whl (74.0MB)\n",
            "\u001b[K     |████████████████████████████████| 74.0MB 90kB/s \n",
            "\u001b[?25hRequirement already satisfied, skipping upgrade: six in /usr/local/lib/python3.6/dist-packages (from plotly>=4.9.0->gitly) (1.15.0)\n",
            "Requirement already satisfied, skipping upgrade: retrying>=1.3.3 in /usr/local/lib/python3.6/dist-packages (from plotly>=4.9.0->gitly) (1.3.3)\n",
            "Building wheels for collected packages: gitly\n",
            "  Building wheel for gitly (setup.py) ... \u001b[?25l\u001b[?25hdone\n",
            "  Created wheel for gitly: filename=gitly-1.1.4-cp36-none-any.whl size=4523 sha256=7163c5ef5868b4b2e03751784ad1c979dd39fcc97bd4e14a6a16c46e25ac09b9\n",
            "  Stored in directory: /root/.cache/pip/wheels/41/5c/0b/6cd3a688991c83f17c948adf0775f7907a0406d1119bd809af\n",
            "Successfully built gitly\n",
            "Installing collected packages: plotly, kaleido, gitly\n",
            "  Found existing installation: plotly 4.4.1\n",
            "    Uninstalling plotly-4.4.1:\n",
            "      Successfully uninstalled plotly-4.4.1\n",
            "Successfully installed gitly-1.1.4 kaleido-0.0.3.post1 plotly-4.12.0\n"
          ],
          "name": "stdout"
        }
      ]
    },
    {
      "cell_type": "code",
      "metadata": {
        "id": "u9Vh9NgnXpMj",
        "colab": {
          "base_uri": "https://localhost:8080/"
        },
        "outputId": "83f81d74-c554-4a2a-add4-26179eacb8a2"
      },
      "source": [
        "!pip install pycep-correios"
      ],
      "execution_count": null,
      "outputs": [
        {
          "output_type": "stream",
          "text": [
            "Collecting pycep-correios\n",
            "  Downloading https://files.pythonhosted.org/packages/a7/f1/4d5ac723907f04e3d3f367d6036b27182b707aba2b7eac1d77386da77fe4/pycep_correios-4.0.4-py2.py3-none-any.whl\n",
            "Collecting deprecated\n",
            "  Downloading https://files.pythonhosted.org/packages/76/a1/05d7f62f956d77b23a640efc650f80ce24483aa2f85a09c03fb64f49e879/Deprecated-1.2.10-py2.py3-none-any.whl\n",
            "Requirement already satisfied: requests>=2.7.0 in /usr/local/lib/python3.6/dist-packages (from pycep-correios) (2.23.0)\n",
            "Collecting zeep>=2.0.0\n",
            "\u001b[?25l  Downloading https://files.pythonhosted.org/packages/e5/8c/b14cbe8562e582786dbd86487c041827cb2a4dafcaf832c035878e94651f/zeep-4.0.0-py2.py3-none-any.whl (100kB)\n",
            "\u001b[K     |████████████████████████████████| 102kB 2.8MB/s \n",
            "\u001b[?25hRequirement already satisfied: wrapt<2,>=1.10 in /usr/local/lib/python3.6/dist-packages (from deprecated->pycep-correios) (1.12.1)\n",
            "Requirement already satisfied: chardet<4,>=3.0.2 in /usr/local/lib/python3.6/dist-packages (from requests>=2.7.0->pycep-correios) (3.0.4)\n",
            "Requirement already satisfied: certifi>=2017.4.17 in /usr/local/lib/python3.6/dist-packages (from requests>=2.7.0->pycep-correios) (2020.6.20)\n",
            "Requirement already satisfied: idna<3,>=2.5 in /usr/local/lib/python3.6/dist-packages (from requests>=2.7.0->pycep-correios) (2.10)\n",
            "Requirement already satisfied: urllib3!=1.25.0,!=1.25.1,<1.26,>=1.21.1 in /usr/local/lib/python3.6/dist-packages (from requests>=2.7.0->pycep-correios) (1.24.3)\n",
            "Requirement already satisfied: pytz in /usr/local/lib/python3.6/dist-packages (from zeep>=2.0.0->pycep-correios) (2018.9)\n",
            "Collecting requests-file>=1.5.1\n",
            "  Downloading https://files.pythonhosted.org/packages/77/86/cdb5e8eaed90796aa83a6d9f75cfbd37af553c47a291cd47bc410ef9bdb2/requests_file-1.5.1-py2.py3-none-any.whl\n",
            "Collecting appdirs>=1.4.0\n",
            "  Downloading https://files.pythonhosted.org/packages/3b/00/2344469e2084fb287c2e0b57b72910309874c3245463acd6cf5e3db69324/appdirs-1.4.4-py2.py3-none-any.whl\n",
            "Requirement already satisfied: lxml>=3.1.0 in /usr/local/lib/python3.6/dist-packages (from zeep>=2.0.0->pycep-correios) (4.2.6)\n",
            "Requirement already satisfied: attrs>=17.2.0 in /usr/local/lib/python3.6/dist-packages (from zeep>=2.0.0->pycep-correios) (20.2.0)\n",
            "Collecting cached-property>=1.3.0\n",
            "  Downloading https://files.pythonhosted.org/packages/48/19/f2090f7dad41e225c7f2326e4cfe6fff49e57dedb5b53636c9551f86b069/cached_property-1.5.2-py2.py3-none-any.whl\n",
            "Requirement already satisfied: defusedxml>=0.4.1 in /usr/local/lib/python3.6/dist-packages (from zeep>=2.0.0->pycep-correios) (0.6.0)\n",
            "Collecting requests-toolbelt>=0.7.1\n",
            "\u001b[?25l  Downloading https://files.pythonhosted.org/packages/60/ef/7681134338fc097acef8d9b2f8abe0458e4d87559c689a8c306d0957ece5/requests_toolbelt-0.9.1-py2.py3-none-any.whl (54kB)\n",
            "\u001b[K     |████████████████████████████████| 61kB 5.2MB/s \n",
            "\u001b[?25hCollecting isodate>=0.5.4\n",
            "\u001b[?25l  Downloading https://files.pythonhosted.org/packages/9b/9f/b36f7774ff5ea8e428fdcfc4bb332c39ee5b9362ddd3d40d9516a55221b2/isodate-0.6.0-py2.py3-none-any.whl (45kB)\n",
            "\u001b[K     |████████████████████████████████| 51kB 4.7MB/s \n",
            "\u001b[?25hRequirement already satisfied: six in /usr/local/lib/python3.6/dist-packages (from requests-file>=1.5.1->zeep>=2.0.0->pycep-correios) (1.15.0)\n",
            "Installing collected packages: deprecated, requests-file, appdirs, cached-property, requests-toolbelt, isodate, zeep, pycep-correios\n",
            "Successfully installed appdirs-1.4.4 cached-property-1.5.2 deprecated-1.2.10 isodate-0.6.0 pycep-correios-4.0.4 requests-file-1.5.1 requests-toolbelt-0.9.1 zeep-4.0.0\n"
          ],
          "name": "stdout"
        }
      ]
    },
    {
      "cell_type": "code",
      "metadata": {
        "id": "JE7-JtDgIhpy"
      },
      "source": [
        "from gitly.colab.plot import GitlyPlotter\n",
        "\n",
        "gitly = GitlyPlotter('git')\n",
        "gitly.config_render(renderer='colab')"
      ],
      "execution_count": null,
      "outputs": []
    },
    {
      "cell_type": "markdown",
      "metadata": {
        "id": "JnuNMjVwSEOA"
      },
      "source": [
        "# Carregar CSVs"
      ]
    },
    {
      "cell_type": "code",
      "metadata": {
        "id": "g2vS1VYzI3X-"
      },
      "source": [
        "import pandas as pd"
      ],
      "execution_count": null,
      "outputs": []
    },
    {
      "cell_type": "code",
      "metadata": {
        "id": "YoVp_t0RF67H"
      },
      "source": [
        "df_clientes = pd.read_csv('/content/drive/My Drive/Colab Notebooks/Datasets/Datasets-CD/archive.zip (Unzipped Files)/olist_customers_dataset.csv')\n",
        "df_geo = pd.read_csv('/content/drive/My Drive/Colab Notebooks/Datasets/Datasets-CD/archive.zip (Unzipped Files)/olist_geolocation_dataset.csv', encoding='utf8')\n",
        "df_compra_itens = pd.read_csv('/content/drive/My Drive/Colab Notebooks/Datasets/Datasets-CD/archive.zip (Unzipped Files)/olist_order_items_dataset.csv')\n",
        "df_compra_pagamentos = pd.read_csv('/content/drive/My Drive/Colab Notebooks/Datasets/Datasets-CD/archive.zip (Unzipped Files)/olist_order_payments_dataset.csv')\n",
        "df_reviews = pd.read_csv('/content/drive/My Drive/Colab Notebooks/Datasets/Datasets-CD/archive.zip (Unzipped Files)/olist_order_reviews_dataset.csv')\n",
        "df_compras = pd.read_csv('/content/drive/My Drive/Colab Notebooks/Datasets/Datasets-CD/archive.zip (Unzipped Files)/olist_orders_dataset.csv')\n",
        "df_produtos = pd.read_csv('/content/drive/My Drive/Colab Notebooks/Datasets/Datasets-CD/archive.zip (Unzipped Files)/olist_products_dataset.csv')\n",
        "df_vendedores = pd.read_csv('/content/drive/My Drive/Colab Notebooks/Datasets/Datasets-CD/archive.zip (Unzipped Files)/olist_sellers_dataset.csv')"
      ],
      "execution_count": null,
      "outputs": []
    },
    {
      "cell_type": "markdown",
      "metadata": {
        "id": "d9IyuGplU7Yg"
      },
      "source": [
        "# Exploração das tabelas"
      ]
    },
    {
      "cell_type": "markdown",
      "metadata": {
        "id": "HGV9nZINIKL-"
      },
      "source": [
        "## Clientes - olist_customers_dataset"
      ]
    },
    {
      "cell_type": "code",
      "metadata": {
        "id": "pgGGuPL1IGxI"
      },
      "source": [
        "df_clientes.head(3)"
      ],
      "execution_count": null,
      "outputs": []
    },
    {
      "cell_type": "code",
      "metadata": {
        "id": "jR45tRn61EyK"
      },
      "source": [
        "from google.colab import drive\n",
        "drive.mount('/content/drive')"
      ],
      "execution_count": null,
      "outputs": []
    },
    {
      "cell_type": "markdown",
      "metadata": {
        "id": "twtMjMhqIpWn"
      },
      "source": [
        "### Info - Estrutura da tabela"
      ]
    },
    {
      "cell_type": "code",
      "metadata": {
        "id": "1ic3Lhu_IhaV"
      },
      "source": [
        "#(linhas, colunas)\n",
        "df_clientes.shape"
      ],
      "execution_count": null,
      "outputs": []
    },
    {
      "cell_type": "code",
      "metadata": {
        "id": "ahHr_jbsIwGx"
      },
      "source": [
        "# valores unicos em cada coluna\n",
        "df_clientes.nunique()"
      ],
      "execution_count": null,
      "outputs": []
    },
    {
      "cell_type": "code",
      "metadata": {
        "id": "lVGhg-vII6po"
      },
      "source": [
        "# nunique = qtd. valores unicos na coluna\n",
        "# count = qtd. valores n]ao nulos na coluna\n",
        "# size = qtd. de elemetos\n",
        "df_clientes.agg( ['nunique', 'count', 'size'] )"
      ],
      "execution_count": null,
      "outputs": []
    },
    {
      "cell_type": "markdown",
      "metadata": {
        "id": "kV4acYZHKMiZ"
      },
      "source": [
        "### Info - Negócio"
      ]
    },
    {
      "cell_type": "code",
      "metadata": {
        "id": "jZlTny90JtkY"
      },
      "source": [
        "df_clientes.head(2)"
      ],
      "execution_count": null,
      "outputs": []
    },
    {
      "cell_type": "code",
      "metadata": {
        "id": "ZfF9oCHfKZO-"
      },
      "source": [
        "# Quantos clientes unicos\n",
        "print( 'Qtd. de clientes únicos', df_clientes.customer_unique_id.nunique())"
      ],
      "execution_count": null,
      "outputs": []
    },
    {
      "cell_type": "code",
      "metadata": {
        "id": "ASskK7ZXLIhC"
      },
      "source": [
        "# Valeu Lore!\n",
        "df_clientes_unique = df_clientes.drop_duplicates('customer_unique_id', keep='first')\n",
        "df_clientes_unique.shape"
      ],
      "execution_count": null,
      "outputs": []
    },
    {
      "cell_type": "code",
      "metadata": {
        "id": "EoZ1Vx5fMGWA"
      },
      "source": [
        "df_clientes_unique.head(3)"
      ],
      "execution_count": null,
      "outputs": []
    },
    {
      "cell_type": "markdown",
      "metadata": {
        "id": "Y750yc4fK_b6"
      },
      "source": [
        "Top 5 **estados**"
      ]
    },
    {
      "cell_type": "code",
      "metadata": {
        "id": "Mrymc9qXKxeu"
      },
      "source": [
        "df_top5_estados = df_clientes_unique.customer_state.value_counts().head(5)\n",
        "df_top5_estados"
      ],
      "execution_count": null,
      "outputs": []
    },
    {
      "cell_type": "code",
      "metadata": {
        "id": "oh94DqBnLyzp"
      },
      "source": [
        "import plotly.express as px\n",
        "\n",
        "fig = px.bar(df_top5_estados, y='customer_state', title='Cinco estados com mais clientes', labels={'customer_state': 'Número de Clientes', 'index':'Estado (BR)'})\n",
        "gitly.show( fig )"
      ],
      "execution_count": null,
      "outputs": []
    },
    {
      "cell_type": "markdown",
      "metadata": {
        "id": "2AagTnPgPFVQ"
      },
      "source": [
        "Top 5 **cidades**"
      ]
    },
    {
      "cell_type": "code",
      "metadata": {
        "id": "K96EAhnsNhuu"
      },
      "source": [
        "df_top5_cidade = df_clientes_unique.customer_city.value_counts().head(5)\n",
        "df_top5_cidade"
      ],
      "execution_count": null,
      "outputs": []
    },
    {
      "cell_type": "code",
      "metadata": {
        "id": "We-JrQjBPQXL"
      },
      "source": [
        "fig = px.bar(df_top5_cidade, y='customer_city', title='Cinco cidades com mais clientes', labels={'customer_city': 'Número de Clientes', 'index':'Cidades'})\n",
        "gitly.show( fig )"
      ],
      "execution_count": null,
      "outputs": []
    },
    {
      "cell_type": "markdown",
      "metadata": {
        "id": "R6wYWdBjPqO-"
      },
      "source": [
        "Discussão"
      ]
    },
    {
      "cell_type": "code",
      "metadata": {
        "id": "wAYxQ_sVPsJf"
      },
      "source": [
        "from plotly.subplots import make_subplots\n",
        "\n",
        "fig = make_subplots( rows=1, cols=2, column_titles= ['Cidades com mais clientes', 'Estados com mais clientes'] )\n",
        "\n",
        "fig.add_bar( x=df_top5_cidade.index , y=df_top5_cidade, row=1, col=1 )\n",
        "fig.add_bar( x=df_top5_estados.index, y=df_top5_estados, row=1, col=2 )\n",
        "fig.update_layout( dict( {'title':'Clientes: Cidades vs Estados'} ) )\n",
        "fig.update_layout( dict( {'showlegend':False} ) )\n",
        "gitly.show(fig)"
      ],
      "execution_count": null,
      "outputs": []
    },
    {
      "cell_type": "markdown",
      "metadata": {
        "id": "3i_eXiJOUTUH"
      },
      "source": [
        "Top 4 - Bairro/Distrito - Número de clientes"
      ]
    },
    {
      "cell_type": "code",
      "metadata": {
        "id": "fNl2IJtZUdDt"
      },
      "source": [
        "df_clientes_unique.head(3)"
      ],
      "execution_count": null,
      "outputs": []
    },
    {
      "cell_type": "code",
      "metadata": {
        "id": "bDO5m1j_PxKD"
      },
      "source": [
        "df_top4_bairros = df_clientes_unique.customer_zip_code_prefix.value_counts().head(4).rename('qtd_clientes_bairro').reset_index()\n",
        "df_top4_bairros"
      ],
      "execution_count": null,
      "outputs": []
    },
    {
      "cell_type": "code",
      "metadata": {
        "id": "y6MYekZ6Vaz_"
      },
      "source": [
        "# fonte https://imasters.com.br/back-end/python-consulta-de-cep-com-pycepcorreios\n",
        "import pycep_correios\n",
        "\n",
        "def bairro_cidade( cep ):\n",
        "    end = pycep_correios.get_address_from_cep( str( cep ) + '000' )\n",
        "    return '{} / {}'.format(end['bairro'], end['cidade'])\n",
        "\n",
        "df_top4_bairros['distrito'] = df_top4_bairros['index'].apply( bairro_cidade )\n",
        "df_top4_bairros"
      ],
      "execution_count": null,
      "outputs": []
    },
    {
      "cell_type": "markdown",
      "metadata": {
        "id": "7ShtKB9RZ916"
      },
      "source": [
        "## Produtos - olist_products_dataset"
      ]
    },
    {
      "cell_type": "code",
      "metadata": {
        "id": "XjhpJvAMZ9r4"
      },
      "source": [
        "df_produtos.head(3)"
      ],
      "execution_count": null,
      "outputs": []
    },
    {
      "cell_type": "markdown",
      "metadata": {
        "id": "B7sxERs8aNZg"
      },
      "source": [
        "### Info - Estrutura"
      ]
    },
    {
      "cell_type": "code",
      "metadata": {
        "id": "Mvz1hpZaYBA8"
      },
      "source": [
        "df_produtos.shape"
      ],
      "execution_count": null,
      "outputs": []
    },
    {
      "cell_type": "code",
      "metadata": {
        "id": "qBTAlIUDaXDz"
      },
      "source": [
        "# nunique = qtd. valores unicos na coluna\n",
        "# count = qtd. valores n]ao nulos na coluna\n",
        "# size = qtd. de elemetos\n",
        "df_produtos.agg( ['nunique', 'count', 'size'] )"
      ],
      "execution_count": null,
      "outputs": []
    },
    {
      "cell_type": "code",
      "metadata": {
        "id": "Kl897uhRaaIc"
      },
      "source": [
        "df_produtos.product_category_name.fillna(value='nao informado', inplace=True)\n",
        "df_produtos.agg( ['nunique', 'count', 'size'] )"
      ],
      "execution_count": null,
      "outputs": []
    },
    {
      "cell_type": "code",
      "metadata": {
        "id": "2obNuFxddDKl"
      },
      "source": [
        "# Como esta a distribuição?\n",
        "fig = px.box(df_produtos.product_weight_g, y=\"product_weight_g\")\n",
        "gitly.show(fig)"
      ],
      "execution_count": null,
      "outputs": []
    },
    {
      "cell_type": "code",
      "metadata": {
        "id": "hZdUhnLec4KY"
      },
      "source": [
        "df_produtos.product_weight_g.median()"
      ],
      "execution_count": null,
      "outputs": []
    },
    {
      "cell_type": "code",
      "metadata": {
        "id": "aCB0wreSc5Pg"
      },
      "source": [
        "df_produtos.product_weight_g.mean()"
      ],
      "execution_count": null,
      "outputs": []
    },
    {
      "cell_type": "code",
      "metadata": {
        "id": "th2sH9nPb4pA"
      },
      "source": [
        "#df_produtos.fillna(method='ffil')\n",
        "#df_produtos.fillna(value=0)\n",
        "valor = df_produtos.product_weight_g.median()\n",
        "df_produtos.product_weight_g.fillna(value=valor, inplace=True)"
      ],
      "execution_count": null,
      "outputs": []
    },
    {
      "cell_type": "markdown",
      "metadata": {
        "id": "u8XIniV3d8Hq"
      },
      "source": [
        "### Info - Negócio"
      ]
    },
    {
      "cell_type": "code",
      "metadata": {
        "id": "rgW7bqHEeEWv"
      },
      "source": [
        "df_produtos.head(2)"
      ],
      "execution_count": null,
      "outputs": []
    },
    {
      "cell_type": "code",
      "metadata": {
        "id": "uUyc0gD4c_no"
      },
      "source": [
        "df_categoria_mais_vendidas = df_produtos.product_category_name.value_counts().head(5).rename('qtd_prod_cat_ofertados')\n",
        "df_categoria_mais_vendidas"
      ],
      "execution_count": null,
      "outputs": []
    },
    {
      "cell_type": "code",
      "metadata": {
        "id": "P-H4HoBDeHpe"
      },
      "source": [
        "import numpy as np\n",
        "\n",
        "df_peso_medio_produtos = df_produtos.groupby( by='product_category_name' ).apply(np.mean)['product_weight_g']\n",
        "df_peso_medio_produtos"
      ],
      "execution_count": null,
      "outputs": []
    },
    {
      "cell_type": "code",
      "metadata": {
        "id": "HLBB1UHQfHjE"
      },
      "source": [
        "df_mais_vendidos_peso_medio =  pd.merge(left=df_categoria_mais_vendidas, right=df_peso_medio_produtos, how='left', left_index=True, right_index=True)\n",
        "df_mais_vendidos_peso_medio"
      ],
      "execution_count": null,
      "outputs": []
    },
    {
      "cell_type": "markdown",
      "metadata": {
        "id": "c3ypj1ozgk1x"
      },
      "source": [
        "## Compras - olist_orders_dataset"
      ]
    },
    {
      "cell_type": "code",
      "metadata": {
        "id": "EMS9xn2xgLYK"
      },
      "source": [
        "df_compras.head(3)"
      ],
      "execution_count": null,
      "outputs": []
    },
    {
      "cell_type": "markdown",
      "metadata": {
        "id": "CbWnQt9AlpKz"
      },
      "source": [
        "### Info - Estrutura"
      ]
    },
    {
      "cell_type": "code",
      "metadata": {
        "id": "59ASLG2IgjWk"
      },
      "source": [
        "df_compras.shape"
      ],
      "execution_count": null,
      "outputs": []
    },
    {
      "cell_type": "code",
      "metadata": {
        "id": "lYcYb_fplwwS"
      },
      "source": [
        "df_compras.agg(['nunique','count','size'])"
      ],
      "execution_count": null,
      "outputs": []
    },
    {
      "cell_type": "code",
      "metadata": {
        "id": "EdCsyiRMly3V"
      },
      "source": [
        "df_compras.fillna( method='ffill', inplace=True ) # Melhorem isso aqui!\n",
        "df_compras.agg(['nunique','count','size'])"
      ],
      "execution_count": null,
      "outputs": []
    },
    {
      "cell_type": "code",
      "metadata": {
        "id": "JrFEFTe0qRoS"
      },
      "source": [
        "df_compras.dtypes"
      ],
      "execution_count": null,
      "outputs": []
    },
    {
      "cell_type": "markdown",
      "metadata": {
        "id": "BWYaWnSVmWJQ"
      },
      "source": [
        "### Info - Negócio"
      ]
    },
    {
      "cell_type": "code",
      "metadata": {
        "id": "nBbueJF_mK7Y"
      },
      "source": [
        "df_compras.head(2)"
      ],
      "execution_count": null,
      "outputs": []
    },
    {
      "cell_type": "code",
      "metadata": {
        "id": "F4aWFbNkmURr"
      },
      "source": [
        "df_compras.order_status.unique()"
      ],
      "execution_count": null,
      "outputs": []
    },
    {
      "cell_type": "code",
      "metadata": {
        "id": "Cny9t5SZmfnK"
      },
      "source": [
        "df_status = df_compras.order_status.value_counts()\n",
        "df_status"
      ],
      "execution_count": null,
      "outputs": []
    },
    {
      "cell_type": "code",
      "metadata": {
        "id": "M_yB9L4imroT"
      },
      "source": [
        "fig = px.bar(df_status, y='order_status', title='Status do pedido', log_y=True, labels={'order_status': 'Pedidos', 'index':'Status'})\n",
        "gitly.show( fig )"
      ],
      "execution_count": null,
      "outputs": []
    },
    {
      "cell_type": "markdown",
      "metadata": {
        "id": "irHbz4O-qI2W"
      },
      "source": [
        "### Data"
      ]
    },
    {
      "cell_type": "code",
      "metadata": {
        "id": "SY4NFblSqM9V"
      },
      "source": [
        "df_compras.head(2)"
      ],
      "execution_count": null,
      "outputs": []
    },
    {
      "cell_type": "code",
      "metadata": {
        "id": "X9qgxY8jqOo5"
      },
      "source": [
        "df_compras_dt = df_compras[['order_id', 'customer_id', 'order_status']].copy()\n",
        "df_compras_dt.head(3)"
      ],
      "execution_count": null,
      "outputs": []
    },
    {
      "cell_type": "code",
      "metadata": {
        "id": "IzTdElYMqqci"
      },
      "source": [
        "# demonstração\n",
        "pd.to_datetime( df_compras['order_purchase_timestamp'], format='%Y-%m-%d')"
      ],
      "execution_count": null,
      "outputs": []
    },
    {
      "cell_type": "code",
      "metadata": {
        "id": "IHCOUodEq1Rf"
      },
      "source": [
        "lista_colunas_datas = list( df_compras.iloc[:1, 3:].columns )\n",
        "lista_colunas_datas"
      ],
      "execution_count": null,
      "outputs": []
    },
    {
      "cell_type": "code",
      "metadata": {
        "id": "UO2KZ7jXr6GX"
      },
      "source": [
        "for coluna in lista_colunas_datas:\n",
        "    df_compras_dt[coluna] = pd.to_datetime( df_compras[coluna], format='%Y-%m-%d')\n",
        "\n",
        "df_compras_dt.head(3)"
      ],
      "execution_count": null,
      "outputs": []
    },
    {
      "cell_type": "code",
      "metadata": {
        "id": "tSus5C-7sgGt"
      },
      "source": [
        "df_compras_dt.dtypes"
      ],
      "execution_count": null,
      "outputs": []
    },
    {
      "cell_type": "code",
      "metadata": {
        "id": "NRn9vQpEsiZe"
      },
      "source": [
        "df_compras_dt.iloc[0,:]"
      ],
      "execution_count": null,
      "outputs": []
    },
    {
      "cell_type": "markdown",
      "metadata": {
        "id": "GVGIhCMKtlhZ"
      },
      "source": [
        "Eficiência na entrega"
      ]
    },
    {
      "cell_type": "code",
      "metadata": {
        "id": "LFnBnmHlsq5k"
      },
      "source": [
        "em_tempo = (df_compras_dt.order_delivered_customer_date <= df_compras_dt.order_estimated_delivery_date).sum()\n",
        "em_tempo"
      ],
      "execution_count": null,
      "outputs": []
    },
    {
      "cell_type": "code",
      "metadata": {
        "id": "uTpYOePbtFdY"
      },
      "source": [
        "total = (df_compras_dt.order_delivered_customer_date <= df_compras_dt.order_estimated_delivery_date).count()\n",
        "total"
      ],
      "execution_count": null,
      "outputs": []
    },
    {
      "cell_type": "code",
      "metadata": {
        "id": "UGyKduRrtjYx"
      },
      "source": [
        "atrasados = total - em_tempo\n",
        "atrasados"
      ],
      "execution_count": null,
      "outputs": []
    },
    {
      "cell_type": "code",
      "metadata": {
        "id": "Mz12OIWStyb5"
      },
      "source": [
        "fig = px.pie( values=[em_tempo, atrasados], names=['Dentro do Estimado','Atrasados'], title='Eficiência na Entrega')\n",
        "fig.show()"
      ],
      "execution_count": null,
      "outputs": []
    },
    {
      "cell_type": "code",
      "metadata": {
        "id": "rH-UpS9vuS6-"
      },
      "source": [
        "df_compras_dt.head(3)\n"
      ],
      "execution_count": null,
      "outputs": []
    },
    {
      "cell_type": "code",
      "metadata": {
        "id": "qYNAThRtvVbq"
      },
      "source": [
        "df_compras_dt['delivery_interval'] = df_compras_dt.order_delivered_customer_date - df_compras_dt.order_purchase_timestamp\n",
        "df_compras_dt.head(3)"
      ],
      "execution_count": null,
      "outputs": []
    },
    {
      "cell_type": "code",
      "metadata": {
        "id": "7z7m-vJdvdUd"
      },
      "source": [
        "df_compras_dt['numeric_month'] =  df_compras_dt.order_purchase_timestamp.dt.month\n",
        "df_compras_dt['month'] =  df_compras_dt.order_purchase_timestamp.dt.month_name()\n",
        "df_compras_dt['year'] =  df_compras_dt.order_purchase_timestamp.dt.year\n",
        "df_compras_dt.head(3)"
      ],
      "execution_count": null,
      "outputs": []
    },
    {
      "cell_type": "code",
      "metadata": {
        "id": "YUd5DZpwwNwh"
      },
      "source": [
        "df_compras_dt['days_delivery_interval'] = df_compras_dt.delivery_interval.dt.days\n",
        "df_compras_dt.head(3)"
      ],
      "execution_count": null,
      "outputs": []
    },
    {
      "cell_type": "code",
      "metadata": {
        "id": "pK4V5shpxaGb"
      },
      "source": [
        "df_compras_mes =  df_compras_dt[['numeric_month','year','days_delivery_interval' ]].groupby( by='numeric_month' ).apply(np.mean)\n",
        "df_compras_mes"
      ],
      "execution_count": null,
      "outputs": []
    },
    {
      "cell_type": "code",
      "metadata": {
        "id": "2y708e9CweZO"
      },
      "source": [
        "fig = px.bar(df_compras_mes, y='days_delivery_interval', title='Média de prazo de entrega', labels={'days_delivery_interval': 'Dias decorridos', 'index':'Mês'})\n",
        "gitly.show( fig )"
      ],
      "execution_count": null,
      "outputs": []
    },
    {
      "cell_type": "code",
      "metadata": {
        "id": "L2liJ4dAy6hS"
      },
      "source": [
        "df_n_compras_mes = df_compras_dt.numeric_month.value_counts()\n",
        "df_n_compras_mes_plot = df_n_compras_mes.reset_index().sort_values(by='index', ascending=True)\n",
        "df_n_compras_mes_plot"
      ],
      "execution_count": null,
      "outputs": []
    },
    {
      "cell_type": "code",
      "metadata": {
        "id": "pRy1lo8hzIO1"
      },
      "source": [
        "fig = px.bar(df_n_compras_mes_plot, x ='index' , y='numeric_month', title='Compras por mÊs', labels={'numeric_month': 'Qtd. de Compras', 'index':'Mês'})\n",
        "gitly.show( fig )"
      ],
      "execution_count": null,
      "outputs": []
    },
    {
      "cell_type": "code",
      "metadata": {
        "id": "2EeVrwdUzsHC"
      },
      "source": [
        "df_compras_dt.order_purchase_timestamp.min()"
      ],
      "execution_count": null,
      "outputs": []
    },
    {
      "cell_type": "code",
      "metadata": {
        "id": "ChNHDhTrz52U"
      },
      "source": [
        "df_compras_dt.order_purchase_timestamp.max()"
      ],
      "execution_count": null,
      "outputs": []
    },
    {
      "cell_type": "markdown",
      "metadata": {
        "id": "aPHVo508YqQt"
      },
      "source": [
        "## Compras_Itens - olist_order_items_dataset.csv"
      ]
    },
    {
      "cell_type": "markdown",
      "metadata": {
        "id": "22fLkEm2Zcd9"
      },
      "source": [
        "### Info - Estrutura"
      ]
    },
    {
      "cell_type": "code",
      "metadata": {
        "id": "zzO6T3Q8Zcd_"
      },
      "source": [
        "df_compra_itens.shape"
      ],
      "execution_count": null,
      "outputs": []
    },
    {
      "cell_type": "code",
      "metadata": {
        "id": "RWSSZ0DBZceD"
      },
      "source": [
        "df_compra_itens.agg(['nunique','count','size'])"
      ],
      "execution_count": null,
      "outputs": []
    },
    {
      "cell_type": "markdown",
      "metadata": {
        "id": "rrrIEOlRcO8j"
      },
      "source": [
        "### Info Negócio"
      ]
    },
    {
      "cell_type": "code",
      "metadata": {
        "id": "cLsXDlnJ1EBv"
      },
      "source": [
        "df_compra_itens.head(3)"
      ],
      "execution_count": null,
      "outputs": []
    },
    {
      "cell_type": "markdown",
      "metadata": {
        "id": "M76np_XUQLJk"
      },
      "source": [
        "Perguntas:\n",
        "- Qual o produto mais vendido?\n",
        "- **O frete do produto mais vendido muda de acordo com a região?**\n",
        "- Qual o frete médio do produto mais vendido?\n",
        "- Qual o top 5 vendedores?\n",
        "- Quais produtos que os top 5 vendedores mais vendem?\n",
        "- Variação de preço ao longo do tempo.\n",
        "- Qual produto fatura mais?\n",
        "- Venda de produto x Ano (top 5?)\n",
        "- Volume de dinheiro em transações ao longo dos meses.\n",
        "----------------------------------------------\n",
        "Responder\n",
        "- Qual o produto mais vendido?\n",
        "- Qual o frete médio do produto mais vendido?\n",
        "- Qual produto fatura mais?\n",
        "- Qual o top 5 vendedores?\n",
        "----------------------------------------------\n",
        "Para casa:\n",
        "- Variação de preço ao longo do tempo.\n",
        "- Venda de produto x Ano (top 5?)\n",
        "- Volume de dinheiro em transações ao longo dos meses.\n"
      ]
    },
    {
      "cell_type": "markdown",
      "metadata": {
        "id": "3OCdGXHDVJ8z"
      },
      "source": [
        "#### Qual o produto mais vendido?"
      ]
    },
    {
      "cell_type": "code",
      "metadata": {
        "id": "oR1EqMJi1D80"
      },
      "source": [
        "# Errado\n",
        "df_compra_itens.product_id.value_counts().head(5)"
      ],
      "execution_count": null,
      "outputs": []
    },
    {
      "cell_type": "code",
      "metadata": {
        "id": "618hGLC4abFv"
      },
      "source": [
        "df_compra_itens[['product_id', 'order_item_id' ]].groupby(by='product_id').apply(sum)['order_item_id']"
      ],
      "execution_count": null,
      "outputs": []
    },
    {
      "cell_type": "code",
      "metadata": {
        "id": "22nRiVB4VZ4k"
      },
      "source": [
        "# Certo\n",
        "df_prod_mais_v = df_compra_itens[['product_id', 'order_item_id' ]].groupby(by='product_id').apply(sum)['order_item_id']\n",
        "df_prod_mais_v.head()"
      ],
      "execution_count": null,
      "outputs": []
    },
    {
      "cell_type": "code",
      "metadata": {
        "id": "PU4yVC7uVzCd"
      },
      "source": [
        "df_prod_mais_v.sort_values(ascending=False).head(5)"
      ],
      "execution_count": null,
      "outputs": []
    },
    {
      "cell_type": "markdown",
      "metadata": {
        "id": "h9JFEf6oWg_6"
      },
      "source": [
        "#### Qual o frete médio do produto mais vendido?"
      ]
    },
    {
      "cell_type": "code",
      "metadata": {
        "id": "dv8b76JjcKLF"
      },
      "source": [
        "df_prod_mais_v.sort_values(ascending=False).index[0]"
      ],
      "execution_count": null,
      "outputs": []
    },
    {
      "cell_type": "code",
      "metadata": {
        "id": "8GthLv6lWWSB"
      },
      "source": [
        "prod_mais = df_prod_mais_v.sort_values(ascending=False).index[0]\n",
        "df_prod_mais_vendido = df_compra_itens[ df_compra_itens.product_id == prod_mais ]\n",
        "df_prod_mais_vendido.head(10)"
      ],
      "execution_count": null,
      "outputs": []
    },
    {
      "cell_type": "code",
      "metadata": {
        "id": "IPPjJ_70XLZz"
      },
      "source": [
        "df_prod_mais_vendido.freight_value.describe()"
      ],
      "execution_count": null,
      "outputs": []
    },
    {
      "cell_type": "code",
      "metadata": {
        "id": "LsXZZ_YOXjcj"
      },
      "source": [
        "fig = px.box(df_prod_mais_vendido, y=\"freight_value\")\n",
        "fig.show()"
      ],
      "execution_count": null,
      "outputs": []
    },
    {
      "cell_type": "markdown",
      "metadata": {
        "id": "uvPfDFI6X8YQ"
      },
      "source": [
        "#### Qual produto fatura mais?"
      ]
    },
    {
      "cell_type": "code",
      "metadata": {
        "id": "p-DEQUz3Y1XF"
      },
      "source": [
        "df_compra_itens['valor_final'] = df_compra_itens.order_item_id * df_compra_itens.price\n",
        "df_compra_itens.head()"
      ],
      "execution_count": null,
      "outputs": []
    },
    {
      "cell_type": "code",
      "metadata": {
        "id": "KLjEJ-Y1X60B"
      },
      "source": [
        "df_prod_mais_f = df_compra_itens[['product_id', 'order_item_id', 'valor_final' ]].groupby(by=['product_id']).apply(sum)[['valor_final', 'order_item_id']]\n",
        "df_prod_mais_f.head()"
      ],
      "execution_count": null,
      "outputs": []
    },
    {
      "cell_type": "code",
      "metadata": {
        "id": "U8KxCsYzZJZk"
      },
      "source": [
        "df_prod_mais_f.sort_values(by=['valor_final'] ,ascending=False).head(5)"
      ],
      "execution_count": null,
      "outputs": []
    },
    {
      "cell_type": "markdown",
      "metadata": {
        "id": "1fEsxJ3fZdqc"
      },
      "source": [
        "#### Qual o top 5 vendedores (+vendem)?"
      ]
    },
    {
      "cell_type": "code",
      "metadata": {
        "id": "aYAF51mBZfco"
      },
      "source": [
        "# Transações\n",
        "df_compra_itens.groupby( by=['seller_id'] ).count().sort_values(by=['order_id'], ascending=False).head(5)"
      ],
      "execution_count": null,
      "outputs": []
    },
    {
      "cell_type": "code",
      "metadata": {
        "id": "shvOxcy3gNqk"
      },
      "source": [
        "# Transações\n",
        "df_compra_itens.seller_id.value_counts().head(5)"
      ],
      "execution_count": null,
      "outputs": []
    },
    {
      "cell_type": "code",
      "metadata": {
        "id": "Rjrg9qhFfhLV"
      },
      "source": [
        "# Quem vendeu mais produtos\n",
        "df_compra_itens.groupby( by=['seller_id'] ).apply( sum ).sort_values(by=['order_item_id'], ascending=False).head(5)['order_item_id']"
      ],
      "execution_count": null,
      "outputs": []
    },
    {
      "cell_type": "markdown",
      "metadata": {
        "id": "6PdBbwtC2UgG"
      },
      "source": [
        "Perguntas:\n",
        "\n",
        "Top 5 categorias mais vendidas?\n",
        "Quanto cada categoria participa no faturamento total (%)?\n",
        "Existe relação entre o peso e o frete?"
      ]
    },
    {
      "cell_type": "markdown",
      "metadata": {
        "id": "qDg__uJ42XWn"
      },
      "source": [
        "Top 5 categorias mais vendidas (unidades vendidas)?"
      ]
    },
    {
      "cell_type": "code",
      "metadata": {
        "id": "bnehXLJ-2J5A"
      },
      "source": [
        "df_produtos.head(3)"
      ],
      "execution_count": null,
      "outputs": []
    },
    {
      "cell_type": "code",
      "metadata": {
        "id": "ZiTRsRhRfqvt"
      },
      "source": [
        "df_compra_itens.head(3)"
      ],
      "execution_count": null,
      "outputs": []
    },
    {
      "cell_type": "code",
      "metadata": {
        "id": "aGpwwCjL35bD"
      },
      "source": [
        "df_left=df_compra_itens[['order_item_id','product_id']]\n",
        "df_right =df_produtos[['product_id','product_category_name']]"
      ],
      "execution_count": null,
      "outputs": []
    },
    {
      "cell_type": "code",
      "metadata": {
        "id": "zrMevhCk2zUC"
      },
      "source": [
        "df_resultante = pd.merge(df_left, df_right, how='left',on='product_id')\n",
        "df_resultante"
      ],
      "execution_count": null,
      "outputs": []
    },
    {
      "cell_type": "code",
      "metadata": {
        "id": "34qkRh0H5-xI"
      },
      "source": [
        "df_cat_total=df_resultante[['order_item_id','product_category_name']].groupby(by='product_category_name').sum()"
      ],
      "execution_count": null,
      "outputs": []
    },
    {
      "cell_type": "code",
      "metadata": {
        "id": "MZ2I8y5N6-N_"
      },
      "source": [
        "df_cat_total.sort_values(by= 'order_item_id',ascending=False).head(5)"
      ],
      "execution_count": null,
      "outputs": []
    },
    {
      "cell_type": "code",
      "metadata": {
        "id": "JHdelz5V7bwn"
      },
      "source": [
        "df_plot = df_cat_total.sort_values(by='order_item_id', ascending=False).head(5)\n",
        "fig = px.bar(df_plot, y='order_item_id', title='Categorias mais vendidas', labels={'order_item_id': 'Pedidos', 'product_category_name':'categoria'})\n",
        "gitly.show( fig )"
      ],
      "execution_count": null,
      "outputs": []
    },
    {
      "cell_type": "code",
      "metadata": {
        "id": "p9a94HzF8HC-"
      },
      "source": [
        "df_left = df_compra_itens[['valor_final', 'product_id']]\n",
        "df_left.head(3)"
      ],
      "execution_count": null,
      "outputs": []
    },
    {
      "cell_type": "code",
      "metadata": {
        "id": "INaz-5Mp8I7Q"
      },
      "source": [
        "df_right = df_produtos[['product_id', 'product_category_name']]\n",
        "df_right.head(3)"
      ],
      "execution_count": null,
      "outputs": []
    },
    {
      "cell_type": "code",
      "metadata": {
        "id": "MUM9jcR78LL0"
      },
      "source": [
        "df_categorias_fat = pd.merge(df_left, df_right, how='left', on='product_id')\n",
        "df_categorias_fat.head()"
      ],
      "execution_count": null,
      "outputs": []
    },
    {
      "cell_type": "code",
      "metadata": {
        "id": "NfajYSp_8VRB"
      },
      "source": [
        "df_cat_total_fat=df_categorias_fat [['valor_final','product_category_name']].groupby(by='product_category_name').sum()"
      ],
      "execution_count": null,
      "outputs": []
    },
    {
      "cell_type": "code",
      "metadata": {
        "id": "j1_iZ8E38r2C"
      },
      "source": [
        "df_plot=df_cat_total_fat.sort_values(by='valor_final', ascending=False).head(5)"
      ],
      "execution_count": null,
      "outputs": []
    },
    {
      "cell_type": "code",
      "metadata": {
        "id": "lbs8Pz0G8rub"
      },
      "source": [
        "\n",
        "fig = px.bar(df_plot, y='valor_final', title='Categorias mais vendidas', labels={'valor_final': 'Faturamento', 'index':'Categoria'})\n",
        "gitly.show( fig )"
      ],
      "execution_count": null,
      "outputs": []
    },
    {
      "cell_type": "markdown",
      "metadata": {
        "id": "3FMOz-gm9kjE"
      },
      "source": [
        "Comparação"
      ]
    },
    {
      "cell_type": "markdown",
      "metadata": {
        "id": "LS21Caxx26Vi"
      },
      "source": [
        ""
      ]
    }
  ]
}